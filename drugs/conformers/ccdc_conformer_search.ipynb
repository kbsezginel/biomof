{
 "cells": [
  {
   "cell_type": "code",
   "execution_count": 1,
   "metadata": {
    "collapsed": true
   },
   "outputs": [],
   "source": [
    "import os\n",
    "from ccdc import io\n",
    "from ccdc import conformer\n",
    "from ccdc.descriptors import MolecularDescriptors\n",
    "from raspa_molecule import read_mol2, write_raspa_molecule"
   ]
  },
  {
   "cell_type": "code",
   "execution_count": null,
   "metadata": {
    "collapsed": true
   },
   "outputs": [],
   "source": [
    "mol_path = 'DMOG.mol2'\n",
    "mol_name = os.path.splitext(os.path.basename(mol_path))[0]\n",
    "mol_reader = io.MoleculeReader(mol_path)\n",
    "mol = mol_reader[0]\n",
    "mol_reader.close()"
   ]
  },
  {
   "cell_type": "code",
   "execution_count": null,
   "metadata": {},
   "outputs": [],
   "source": [
    "conformer_generator = conformer.ConformerGenerator()   # Initialize conformer generator\n",
    "conformer_generator.settings.max_conformers = 50       # Set max number of conformers\n",
    "conformers = conformer_generator.generate(mol)         # Run conformer generator\n",
    "\n",
    "print(\"\"\"\n",
    "Conformers generated: %i\n",
    "Conformer sampling limit reached: %s\n",
    "Rotamers sampled: %i / %i\n",
    "\"\"\" % (len(conformers), conformers.sampling_limit_reached, conformers.n_rotamers_sampled, conformers.n_rotamers_in_molecule))"
   ]
  },
  {
   "cell_type": "code",
   "execution_count": null,
   "metadata": {
    "collapsed": true
   },
   "outputs": [],
   "source": [
    "mol2_conf_dir = '%s-conformers-mol2' % mol_name\n",
    "raspa_conf_dir = '%s-conformers-raspa' % mol_name\n",
    "\n",
    "if not os.path.isdir(mol2_conf_dir):\n",
    "    os.makedirs(mol2_conf_dir)\n",
    "    \n",
    "if not os.path.isdir(raspa_conf_dir):\n",
    "    os.makedirs(raspa_conf_dir)\n",
    "\n",
    "molecule_minimiser = conformer.MoleculeMinimiser()                   # Uses Tripos force field\n",
    "min_conformers = []\n",
    "for conf_idx, conf in enumerate(conformers):\n",
    "    score, rmsd = conf.normalised_score, conf.rmsd()                 # Conformer score and RMSD\n",
    "    min_conf = molecule_minimiser.minimise(conf.molecule)            # Minimise conformer\n",
    "    min_conformers.append(min_conf)                                  # Add to list\n",
    "    min_rmsd = round( MolecularDescriptors.rmsd(mol, min_conf), 3)   # Minimized RMSD (!!this method gives different results compared to conf.rmsd())\n",
    "    \n",
    "    conf_path = os.path.join(mol2_conf_dir, '%s-%i.mol2' % (mol_name, conf_idx + 1))\n",
    "    with io.MoleculeWriter(conf_path) as molecule_writer:\n",
    "        molecule_writer.write(min_conf)\n",
    "        \n",
    "    mol2_conf = read_mol2(conf_path)\n",
    "    write_raspa_molecule(mol2_conf, save=raspa_conf_dir, name='%s-%i' % (mol_name, conf_idx + 1))"
   ]
  },
  {
   "cell_type": "code",
   "execution_count": null,
   "metadata": {
    "collapsed": true
   },
   "outputs": [],
   "source": []
  }
 ],
 "metadata": {
  "kernelspec": {
   "display_name": "Python 2",
   "language": "python",
   "name": "python2"
  },
  "language_info": {
   "codemirror_mode": {
    "name": "ipython",
    "version": 2
   },
   "file_extension": ".py",
   "mimetype": "text/x-python",
   "name": "python",
   "nbconvert_exporter": "python",
   "pygments_lexer": "ipython2",
   "version": "2.7.11"
  }
 },
 "nbformat": 4,
 "nbformat_minor": 2
}
