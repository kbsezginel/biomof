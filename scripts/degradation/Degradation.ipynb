{
 "cells": [
  {
   "cell_type": "markdown",
   "metadata": {},
   "source": [
    "## Fully automated degradation process\n",
    "\n",
    "1. Generate degraded MOF structure (select degradation percent)\n",
    "2. Solvate degraded MOF with water and drug molecules (and maybe deleted linkers)\n",
    "3. Assign force field parameters to solvated structure\n",
    "4. Generate LAMMPS files\n",
    "5. Run simulation\n",
    "\n",
    "## Questions\n",
    "\n",
    "- Is Node + Linker degradation fine?\n",
    "- Which linkers/nodes to delete for degradation (start from outer shell??)\n",
    "- Should we add the degraded linkers/nodes in solution??"
   ]
  },
  {
   "cell_type": "code",
   "execution_count": 1,
   "metadata": {},
   "outputs": [],
   "source": [
    "import os\n",
    "from thermof.trajectory.tools import center_of_mass\n",
    "from file_io import write_xyz, read_xyz, write_cif\n",
    "from degradation_tools import pack_mof, degrade_mof, MW\n",
    "from irmof1 import irmof1\n",
    "from packmol import Packmol"
   ]
  },
  {
   "cell_type": "code",
   "execution_count": 2,
   "metadata": {
    "collapsed": true
   },
   "outputs": [],
   "source": [
    "W_WATER = 0.1       # Water weight fraction\n",
    "W_PZA = 0.5         # PZA weight fraction\n",
    "W_NIZ = 0.0         # NIZ weight fraction\n",
    "W_RFP = 0.0         # RFP weight fraction\n",
    "D_MOF = (0.5, 0.5)  # Degradation fractions (linkers, nodes)\n",
    "P_MOF = [2, 2, 2]   # MOF packing coefficient"
   ]
  },
  {
   "cell_type": "markdown",
   "metadata": {},
   "source": [
    "## Generating MOF"
   ]
  },
  {
   "cell_type": "code",
   "execution_count": 3,
   "metadata": {},
   "outputs": [
    {
     "name": "stdout",
     "output_type": "stream",
     "text": [
      "96 / 192 linkers will be deleted...\n",
      "32 / 64 nodes will be deleted...\n",
      "Packing linkers and nodes...\n",
      "Deleting linker and note atoms...\n",
      "Writing to file...\n",
      "Done! Saved as -> packmol/IRMOF1-222-L50-N50.xyz\n"
     ]
    }
   ],
   "source": [
    "mof = irmof1.copy()\n",
    "packed_mof = pack_mof(mof['atoms'], mof['coordinates'], mof['cell'], P_MOF)\n",
    "dmof_file = 'IRMOF1-%s-L%i-N%i.xyz' % (''.join([str(i) for i in P_MOF]), D_MOF[0] * 100, D_MOF[1] * 100)\n",
    "degrade_mof(packed_mof, D_MOF, os.path.join('packmol', dmof_file))"
   ]
  },
  {
   "cell_type": "markdown",
   "metadata": {},
   "source": [
    "## Solvating with Packmol"
   ]
  },
  {
   "cell_type": "code",
   "execution_count": 4,
   "metadata": {
    "collapsed": true
   },
   "outputs": [],
   "source": [
    "# structures = {'frac'}"
   ]
  },
  {
   "cell_type": "code",
   "execution_count": 5,
   "metadata": {},
   "outputs": [
    {
     "name": "stdout",
     "output_type": "stream",
     "text": [
      "Adding 34 water molecules to  {'inside box': '2.0 2.0 2.0 89.0 89.0 89.0'}\n",
      "PZA padding: 6.0\n",
      "Adding 25 PZA molecules to  {'inside box': '26 26 26 65 65 65'}\n",
      "Adding 18 linker molecules to  {'inside box': '2.0 2.0 2.0 89.0 89.0 89.0'}\n",
      "Adding 11 node molecules to  {'inside box': '2.0 2.0 2.0 89.0 89.0 89.0'}\n"
     ]
    }
   ],
   "source": [
    "edge_tol = 2                  # Empty space on the edges\n",
    "solv_shell = [20, 20, 20]     # Solvation shell length\n",
    "box_size = [int(packed_mof['cell'][i]) + 2 * solv_shell[i] for i in range(3)] \n",
    "pmol = Packmol()\n",
    "\n",
    "dmof_position = {'fixed': '%.1f %.1f %.1f 0. 0. 0.' % (box_size[0] / 2, box_size[1] / 2, box_size[2] / 2), 'centerofmass': ''}\n",
    "pmol.add_structure({'structure': dmof_file, 'number': '1', 'position': dmof_position})\n",
    "\n",
    "### WATER ----------------------------\n",
    "n_water = int((MW['IRMOF1'] + MW['H2O']) * W_WATER / MW['H2O'])\n",
    "water_position = {'inside box': '%.1f %.1f %.1f %.1f %.1f %.1f' % (edge_tol, edge_tol, edge_tol, box_size[0] - edge_tol, box_size[1] - edge_tol, box_size[2] - edge_tol)}\n",
    "print('Adding %i water molecules to ' % n_water, water_position)\n",
    "pmol.add_structure({'structure': 'water.xyz', 'number': n_water, 'position': water_position})\n",
    "\n",
    "### PZA -------------------------------\n",
    "n_pza = int((MW['IRMOF1'] + MW['PZA']) * W_PZA / MW['PZA'])\n",
    "pza_pad = int(sum(D_MOF) / len(D_MOF) * packed_mof['cell'][0] / 2 * (0.5))\n",
    "print('PZA padding: %.1f' % pza_pad)\n",
    "pza_pos = [solv_shell[0] + pza_pad, solv_shell[1] + pza_pad, solv_shell[2] + pza_pad] \n",
    "pza_pos += [box_size[0] - solv_shell[0] - pza_pad, box_size[1] - solv_shell[1] - pza_pad, box_size[2] - solv_shell[2] - pza_pad]\n",
    "pza_position = {'inside box': '%s' % ' '.join([str(round(i, 1)) for i in pza_pos])}\n",
    "print('Adding %i PZA molecules to ' % n_pza, pza_position)\n",
    "pmol.add_structure({'structure': 'pza.xyz', 'number': n_pza, 'position': pza_position})\n",
    "\n",
    "### LINKER ----------------------------\n",
    "n_linker = int(D_MOF[0] * MW['IRMOF1'] / MW['LINKER'])\n",
    "linker_position = water_position\n",
    "print('Adding %i linker molecules to ' % n_linker, linker_position)\n",
    "pmol.add_structure({'structure': 'linker.xyz', 'number': n_linker, 'position': linker_position})\n",
    "\n",
    "### NODE ------------------------------\n",
    "n_node = int(D_MOF[1] * MW['IRMOF1'] / MW['NODE'])\n",
    "node_position = water_position\n",
    "print('Adding %i node molecules to ' % n_node, node_position)\n",
    "pmol.add_structure({'structure': 'node.xyz', 'number': n_node, 'position': node_position})\n",
    "\n",
    "run_dir = 'pmol-temp'\n",
    "source_dir = 'packmol'"
   ]
  },
  {
   "cell_type": "code",
   "execution_count": 6,
   "metadata": {
    "collapsed": true
   },
   "outputs": [],
   "source": [
    "pmol.run(run_dir, source_dir)"
   ]
  },
  {
   "cell_type": "markdown",
   "metadata": {},
   "source": [
    "## Assign force field parameters and initialize LAMMPS"
   ]
  },
  {
   "cell_type": "code",
   "execution_count": 7,
   "metadata": {},
   "outputs": [],
   "source": [
    "packed_xyz = read_xyz(os.path.join(run_dir, 'packed.xyz'))[0]\n",
    "cif_file = os.path.join(run_dir, 'packed.cif')\n",
    "write_cif(cif_file, packed_xyz['atoms'], packed_xyz['coordinates'], cell=box_size + [90, 90, 90], fractional=True)"
   ]
  },
  {
   "cell_type": "code",
   "execution_count": 8,
   "metadata": {
    "collapsed": true
   },
   "outputs": [],
   "source": [
    "from thermof import Simulation\n",
    "from thermof import Parameters"
   ]
  },
  {
   "cell_type": "code",
   "execution_count": 9,
   "metadata": {},
   "outputs": [],
   "source": [
    "lammps_dir = 'lammps-temp'\n",
    "simpar = Parameters()\n",
    "sim = Simulation(mof=os.path.abspath(cif_file), parameters=simpar)\n",
    "sim.set_dir(lammps_dir)\n",
    "simpar.thermof['fix'] = ['MIN', 'NPT', 'NVT']\n",
    "simpar.thermof['min']['edif'] = 1e-3\n",
    "simpar.thermof['npt']['steps'] = 1000000\n",
    "simpar.thermof['nvt']['steps'] = 1000000\n",
    "simpar.thermof['thermo_style'] = ['step', 'temp', 'press', 'pe', 'etotal', 'emol', 'epair', 'vol', 'lx', 'ly', 'lz']\n",
    "simpar.job['nodes'] = 4\n",
    "simpar.job['ppn'] = 28\n",
    "simpar.job['walltime'] = '36:00:00'\n",
    "simpar.job['name'] = 'P%.1f-W%.1f-DL%.1f-DN%.1f' % (W_PZA, W_WATER, D_MOF[0], D_MOF[1])"
   ]
  },
  {
   "cell_type": "code",
   "execution_count": 10,
   "metadata": {},
   "outputs": [
    {
     "name": "stdout",
     "output_type": "stream",
     "text": [
      "Removing existing simulation directory -> lammps-temp\n",
      "I. Writing Lammps input and data files...\n",
      "No bonds reported in cif file - computing bonding..\n",
      "Molecules found in the framework, separating.\n",
      "WARNING: Atom 9 element Zn has 2 neighbors, but was assigned Zn3+2 as a force field type!\n",
      "WARNING: Atom 10 element Zn has 2 neighbors, but was assigned Zn3+2 as a force field type!\n",
      "WARNING: Atom 19 element Zn has 2 neighbors, but was assigned Zn3+2 as a force field type!\n",
      "WARNING: Atom 20 element Zn has 2 neighbors, but was assigned Zn3+2 as a force field type!\n",
      "WARNING: Atom 29 element Zn has 2 neighbors, but was assigned Zn3+2 as a force field type!\n",
      "WARNING: Atom 30 element Zn has 2 neighbors, but was assigned Zn3+2 as a force field type!\n",
      "WARNING: Atom 33 element Zn has 2 neighbors, but was assigned Zn3+2 as a force field type!\n",
      "WARNING: Atom 35 element Zn has 2 neighbors, but was assigned Zn3+2 as a force field type!\n",
      "WARNING: Atom 36 element Zn has 2 neighbors, but was assigned Zn3+2 as a force field type!\n",
      "WARNING: Atom 49 element Zn has 2 neighbors, but was assigned Zn3+2 as a force field type!\n",
      "WARNING: Atom 50 element Zn has 2 neighbors, but was assigned Zn3+2 as a force field type!\n",
      "WARNING: Atom 51 element Zn has 2 neighbors, but was assigned Zn3+2 as a force field type!\n",
      "WARNING: Atom 125 element Zn has 2 neighbors, but was assigned Zn3+2 as a force field type!\n",
      "WARNING: Atom 126 element Zn has 2 neighbors, but was assigned Zn3+2 as a force field type!\n",
      "WARNING: Atom 135 element Zn has 2 neighbors, but was assigned Zn3+2 as a force field type!\n",
      "WARNING: Atom 136 element Zn has 2 neighbors, but was assigned Zn3+2 as a force field type!\n",
      "WARNING: Atom 147 element Zn has 2 neighbors, but was assigned Zn3+2 as a force field type!\n",
      "WARNING: Atom 148 element Zn has 2 neighbors, but was assigned Zn3+2 as a force field type!\n",
      "WARNING: Atom 151 element Zn has 2 neighbors, but was assigned Zn3+2 as a force field type!\n",
      "WARNING: Atom 155 element Zn has 2 neighbors, but was assigned Zn3+2 as a force field type!\n",
      "WARNING: Atom 156 element Zn has 2 neighbors, but was assigned Zn3+2 as a force field type!\n",
      "WARNING: Atom 173 element Zn has 2 neighbors, but was assigned Zn3+2 as a force field type!\n",
      "WARNING: Atom 174 element Zn has 2 neighbors, but was assigned Zn3+2 as a force field type!\n",
      "WARNING: Atom 175 element Zn has 2 neighbors, but was assigned Zn3+2 as a force field type!\n",
      "WARNING: Atom 241 element Zn has 2 neighbors, but was assigned Zn3+2 as a force field type!\n",
      "WARNING: Atom 242 element Zn has 2 neighbors, but was assigned Zn3+2 as a force field type!\n",
      "WARNING: Atom 243 element Zn has 2 neighbors, but was assigned Zn3+2 as a force field type!\n",
      "WARNING: Atom 244 element Zn has 2 neighbors, but was assigned Zn3+2 as a force field type!\n",
      "WARNING: Atom 245 element Zn has 2 neighbors, but was assigned Zn3+2 as a force field type!\n",
      "WARNING: Atom 262 element Zn has 2 neighbors, but was assigned Zn3+2 as a force field type!\n",
      "WARNING: Atom 280 element Zn has 2 neighbors, but was assigned Zn3+2 as a force field type!\n",
      "WARNING: Atom 297 element Zn has 2 neighbors, but was assigned Zn3+2 as a force field type!\n",
      "WARNING: Atom 303 element Zn has 2 neighbors, but was assigned Zn3+2 as a force field type!\n",
      "WARNING: Atom 304 element Zn has 2 neighbors, but was assigned Zn3+2 as a force field type!\n",
      "WARNING: Atom 683 element Zn has 2 neighbors, but was assigned Zn3+2 as a force field type!\n",
      "WARNING: Atom 684 element Zn has 2 neighbors, but was assigned Zn3+2 as a force field type!\n",
      "WARNING: Atom 685 element Zn has 2 neighbors, but was assigned Zn3+2 as a force field type!\n",
      "WARNING: Atom 686 element Zn has 2 neighbors, but was assigned Zn3+2 as a force field type!\n",
      "WARNING: Atom 695 element Zn has 2 neighbors, but was assigned Zn3+2 as a force field type!\n",
      "WARNING: Atom 712 element Zn has 2 neighbors, but was assigned Zn3+2 as a force field type!\n",
      "WARNING: Atom 768 element Zn has 2 neighbors, but was assigned Zn3+2 as a force field type!\n",
      "WARNING: Atom 775 element Zn has 2 neighbors, but was assigned Zn3+2 as a force field type!\n",
      "WARNING: Atom 871 element Zn has 2 neighbors, but was assigned Zn3+2 as a force field type!\n",
      "WARNING: Atom 953 element Zn has 2 neighbors, but was assigned Zn3+2 as a force field type!\n",
      "WARNING: Atom 1229 element Zn has 2 neighbors, but was assigned Zn3+2 as a force field type!\n",
      "WARNING: Molecule 1 with atoms (O, C, H, O, C, C, C, H) will be using the UFF force field as no  value was set for molecules. To prevent this warning set --molecule-ff=[some force field] on the command line.\n",
      "WARNING: Molecule 2 with atoms (H, H, O) will be using the UFF force field as no  value was set for molecules. To prevent this warning set --molecule-ff=[some force field] on the command line.\n",
      "WARNING: Molecule 3 with atoms (C, N, O, C, C, N, C, C, N, H, H, H, H, H) will be using the UFF force field as no  value was set for molecules. To prevent this warning set --molecule-ff=[some force field] on the command line.\n",
      "WARNING: Molecule 4 with atoms (O, O, C, C, H, H, C, C, C, C, H, H, C, C, O, O) will be using the UFF force field as no  value was set for molecules. To prevent this warning set --molecule-ff=[some force field] on the command line.\n",
      "WARNING: Molecule 5 with atoms (O, Zn, Zn, Zn, Zn) will be using the UFF force field as no  value was set for molecules. To prevent this warning set --molecule-ff=[some force field] on the command line.\n",
      "WARNING: Atom 2441 element Zn has 1 neighbors, but was assigned Zn3+2 as a force field type!\n",
      "WARNING: Atom 2437 element Zn has 1 neighbors, but was assigned Zn3+2 as a force field type!\n",
      "WARNING: Atom 2438 element Zn has 1 neighbors, but was assigned Zn3+2 as a force field type!\n",
      "WARNING: Atom 2439 element Zn has 1 neighbors, but was assigned Zn3+2 as a force field type!\n",
      "WARNING: Atom 2442 element Zn has 1 neighbors, but was assigned Zn3+2 as a force field type!\n",
      "WARNING: Atom 2443 element Zn has 1 neighbors, but was assigned Zn3+2 as a force field type!\n",
      "WARNING: Atom 2444 element Zn has 1 neighbors, but was assigned Zn3+2 as a force field type!\n",
      "WARNING: Atom 2446 element Zn has 1 neighbors, but was assigned Zn3+2 as a force field type!\n",
      "WARNING: Atom 2448 element Zn has 1 neighbors, but was assigned Zn3+2 as a force field type!\n",
      "WARNING: Atom 2449 element Zn has 1 neighbors, but was assigned Zn3+2 as a force field type!\n",
      "WARNING: Atom 2451 element Zn has 1 neighbors, but was assigned Zn3+2 as a force field type!\n",
      "WARNING: Atom 2447 element Zn has 1 neighbors, but was assigned Zn3+2 as a force field type!\n",
      "WARNING: Atom 2456 element Zn has 1 neighbors, but was assigned Zn3+2 as a force field type!\n",
      "WARNING: Atom 2452 element Zn has 1 neighbors, but was assigned Zn3+2 as a force field type!\n",
      "WARNING: Atom 2453 element Zn has 1 neighbors, but was assigned Zn3+2 as a force field type!\n",
      "WARNING: Atom 2454 element Zn has 1 neighbors, but was assigned Zn3+2 as a force field type!\n",
      "WARNING: Atom 2457 element Zn has 1 neighbors, but was assigned Zn3+2 as a force field type!\n",
      "WARNING: Atom 2458 element Zn has 1 neighbors, but was assigned Zn3+2 as a force field type!\n",
      "WARNING: Atom 2459 element Zn has 1 neighbors, but was assigned Zn3+2 as a force field type!\n",
      "WARNING: Atom 2461 element Zn has 1 neighbors, but was assigned Zn3+2 as a force field type!\n",
      "WARNING: Atom 2464 element Zn has 1 neighbors, but was assigned Zn3+2 as a force field type!\n",
      "WARNING: Atom 2466 element Zn has 1 neighbors, but was assigned Zn3+2 as a force field type!\n",
      "WARNING: Atom 2462 element Zn has 1 neighbors, but was assigned Zn3+2 as a force field type!\n",
      "WARNING: Atom 2463 element Zn has 1 neighbors, but was assigned Zn3+2 as a force field type!\n",
      "WARNING: Atom 2467 element Zn has 1 neighbors, but was assigned Zn3+2 as a force field type!\n",
      "WARNING: Atom 2468 element Zn has 1 neighbors, but was assigned Zn3+2 as a force field type!\n",
      "WARNING: Atom 2469 element Zn has 1 neighbors, but was assigned Zn3+2 as a force field type!\n",
      "WARNING: Atom 2471 element Zn has 1 neighbors, but was assigned Zn3+2 as a force field type!\n",
      "WARNING: Atom 2472 element Zn has 1 neighbors, but was assigned Zn3+2 as a force field type!\n",
      "WARNING: Atom 2473 element Zn has 1 neighbors, but was assigned Zn3+2 as a force field type!\n",
      "WARNING: Atom 2474 element Zn has 1 neighbors, but was assigned Zn3+2 as a force field type!\n",
      "WARNING: Atom 2476 element Zn has 1 neighbors, but was assigned Zn3+2 as a force field type!\n",
      "WARNING: Atom 2481 element Zn has 1 neighbors, but was assigned Zn3+2 as a force field type!\n",
      "WARNING: Atom 2477 element Zn has 1 neighbors, but was assigned Zn3+2 as a force field type!\n",
      "WARNING: Atom 2478 element Zn has 1 neighbors, but was assigned Zn3+2 as a force field type!\n",
      "WARNING: Atom 2479 element Zn has 1 neighbors, but was assigned Zn3+2 as a force field type!\n",
      "WARNING: Atom 2482 element Zn has 1 neighbors, but was assigned Zn3+2 as a force field type!\n",
      "WARNING: Atom 2483 element Zn has 1 neighbors, but was assigned Zn3+2 as a force field type!\n",
      "WARNING: Atom 2484 element Zn has 1 neighbors, but was assigned Zn3+2 as a force field type!\n",
      "WARNING: Atom 2486 element Zn has 1 neighbors, but was assigned Zn3+2 as a force field type!\n",
      "WARNING: Atom 2488 element Zn has 1 neighbors, but was assigned Zn3+2 as a force field type!\n",
      "WARNING: Atom 2489 element Zn has 1 neighbors, but was assigned Zn3+2 as a force field type!\n",
      "WARNING: Atom 2491 element Zn has 1 neighbors, but was assigned Zn3+2 as a force field type!\n",
      "WARNING: Atom 2487 element Zn has 1 neighbors, but was assigned Zn3+2 as a force field type!\n"
     ]
    },
    {
     "name": "stdout",
     "output_type": "stream",
     "text": [
      "Files created! -> lammps-temp\n",
      "II. Updating Lammps input file -> lammps-temp/in.packed\n",
      "Adding fixes: MIN | NPT | NVT\n",
      "Updating simulation parameters...\n",
      "III. Writing slurm job submission file -> lammps-temp/job.P0.5-W0.1-DL0.5-DN0.5\n",
      "Simulation parameters saved -> lammps-temp/simpar.yaml\n",
      "Done!\n"
     ]
    }
   ],
   "source": [
    "sim.initialize()"
   ]
  },
  {
   "cell_type": "markdown",
   "metadata": {},
   "source": [
    "## LAMMPS"
   ]
  },
  {
   "cell_type": "code",
   "execution_count": null,
   "metadata": {
    "collapsed": true
   },
   "outputs": [],
   "source": [
    "# Modify input files\n",
    "# Create job submission file"
   ]
  },
  {
   "cell_type": "code",
   "execution_count": null,
   "metadata": {
    "collapsed": true
   },
   "outputs": [],
   "source": [
    "linker_atoms = [irmof1['atoms'][i] for i in irmof1['linkers'][0]]\n",
    "linker_coors = [irmof1['coordinates'][i] for i in irmof1['linkers'][0]]\n",
    "\n",
    "node_atoms = [irmof1['atoms'][i] for i in irmof1['nodes'][0]]\n",
    "node_coors = [irmof1['coordinates'][i] for i in irmof1['nodes'][0]]\n",
    "write_xyz('node.xyz', node_atoms, node_coors)\n",
    "write_xyz('linker.xyz', linker_atoms, linker_coors)"
   ]
  },
  {
   "cell_type": "code",
   "execution_count": null,
   "metadata": {
    "collapsed": true
   },
   "outputs": [],
   "source": []
  }
 ],
 "metadata": {
  "kernelspec": {
   "display_name": "Python 3",
   "language": "python",
   "name": "python3"
  },
  "language_info": {
   "codemirror_mode": {
    "name": "ipython",
    "version": 3
   },
   "file_extension": ".py",
   "mimetype": "text/x-python",
   "name": "python",
   "nbconvert_exporter": "python",
   "pygments_lexer": "ipython3",
   "version": "3.5.2"
  }
 },
 "nbformat": 4,
 "nbformat_minor": 1
}
