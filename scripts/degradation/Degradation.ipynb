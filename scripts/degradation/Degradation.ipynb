{
 "cells": [
  {
   "cell_type": "markdown",
   "metadata": {},
   "source": [
    "## Fully automated degradation process\n",
    "\n",
    "1. Generate degraded MOF structure (select degradation percent)\n",
    "2. Solvate degraded MOF with water and drug molecules (and maybe deleted linkers)\n",
    "3. Assign force field parameters to solvated structure\n",
    "4. Generate LAMMPS files\n",
    "5. Run simulation\n",
    "\n",
    "## Questions\n",
    "\n",
    "- Is Node + Linker degradation fine?\n",
    "- Which linkers/nodes to delete for degradation (start from outer shell??)\n",
    "- Should we add the degraded linkers/nodes in solution??"
   ]
  },
  {
   "cell_type": "code",
   "execution_count": null,
   "metadata": {},
   "outputs": [],
   "source": [
    "import os\n",
    "from thermof.trajectory.tools import center_of_mass\n",
    "from file_io import write_xyz\n",
    "from degradation_tools import pack_mof, degrade_mof\n",
    "from irmof1 import irmof1\n",
    "from packmol import Packmol"
   ]
  },
  {
   "cell_type": "code",
   "execution_count": null,
   "metadata": {
    "collapsed": true
   },
   "outputs": [],
   "source": [
    "W_WATER = 0.1       # Water weight fraction\n",
    "W_PZA = 0.1         # PZA weight fraction\n",
    "W_NIZ = 0.0         # NIZ weight fraction\n",
    "W_RFP = 0.0         # RFP weight fraction\n",
    "D_MOF = (0.8, 1.0)  # Degradation fractions (linkers, nodes)\n",
    "P_MOF = [2, 2, 2]   # MOF packing coefficient"
   ]
  },
  {
   "cell_type": "markdown",
   "metadata": {},
   "source": [
    "## Generating MOF"
   ]
  },
  {
   "cell_type": "code",
   "execution_count": null,
   "metadata": {},
   "outputs": [],
   "source": [
    "mof = irmof1.copy()\n",
    "packed_mof = pack_mof(mof['atoms'], mof['coordinates'], mof['cell'], P_MOF)\n",
    "dmof_file = 'IRMOF1-%s-L%i-N%i.xyz' % (''.join([str(i) for i in P_MOF]), D_MOF[0] * 100, D_MOF[1] * 100)\n",
    "degrade_mof(packed_mof, D_MOF, os.path.join('packmol', dmof_file))"
   ]
  },
  {
   "cell_type": "markdown",
   "metadata": {},
   "source": [
    "## Solvating with Packmol"
   ]
  },
  {
   "cell_type": "code",
   "execution_count": null,
   "metadata": {},
   "outputs": [],
   "source": [
    "edge_tol = 2                  # Empty space on the edges\n",
    "solv_shell = [15, 15, 15]     # Solvation shell length\n",
    "box_size = [int(packed_mof['cell'][i]) + 2 * solv_shell[i] for i in range(3)] \n",
    "pmol = Packmol()\n",
    "dmof_position = {'fixed': '%.1f %.1f %.1f 0. 0. 0.' % (box_size[0] / 2, box_size[1] / 2, box_size[2] / 2), 'centerofmass': ''}\n",
    "pmol.add_structure({'structure': dmof_file, 'number': '1', 'position': dmof_position})\n",
    "\n",
    "### WATER ----------------------------\n",
    "n_water = 100\n",
    "water_position = {'inside box': '%.1f %.1f %.1f %.1f %.1f %.1f' % (edge_tol, edge_tol, edge_tol, box_size[0] - edge_tol, box_size[1] - edge_tol, box_size[2] - edge_tol)}\n",
    "pmol.add_structure({'structure': 'water.xyz', 'number': n_water, 'position': water_position})\n",
    "\n",
    "### PZA -------------------------------\n",
    "n_pza = 20\n",
    "pza_position = {'inside box': '%.1f %.1f %.1f %.1f %.1f %.1f' % (solv_shell[0], solv_shell[1], solv_shell[2], box_size[0] - solv_shell[0], box_size[1] - solv_shell[1], box_size[2] - solv_shell[2])}\n",
    "pmol.add_structure({'structure': 'pza.xyz', 'number': n_pza, 'position': pza_position})\n",
    "\n",
    "### LINKER ----------------------------\n",
    "\n",
    "### NODE ------------------------------\n",
    "\n",
    "run_dir = 'pmol-temp'\n",
    "source_dir = 'packmol'"
   ]
  },
  {
   "cell_type": "code",
   "execution_count": null,
   "metadata": {},
   "outputs": [],
   "source": [
    "pmol.run(run_dir, source_dir)"
   ]
  },
  {
   "cell_type": "markdown",
   "metadata": {},
   "source": [
    "## Assign force field parameters"
   ]
  },
  {
   "cell_type": "code",
   "execution_count": null,
   "metadata": {},
   "outputs": [],
   "source": [
    "# Run lammps_interface"
   ]
  },
  {
   "cell_type": "markdown",
   "metadata": {},
   "source": [
    "## LAMMPS"
   ]
  },
  {
   "cell_type": "code",
   "execution_count": null,
   "metadata": {},
   "outputs": [],
   "source": [
    "# Modify input files\n",
    "# Create job submission file"
   ]
  },
  {
   "cell_type": "code",
   "execution_count": null,
   "metadata": {
    "collapsed": true
   },
   "outputs": [],
   "source": [
    "linker_atoms = [irmof1['atoms'][i] for i in irmof1['linkers'][0]]\n",
    "linker_coors = [irmof1['coordinates'][i] for i in irmof1['linkers'][0]]\n",
    "\n",
    "node_atoms = [irmof1['atoms'][i] for i in irmof1['nodes'][0]]\n",
    "node_coors = [irmof1['coordinates'][i] for i in irmof1['nodes'][0]]\n",
    "write_xyz('node.xyz', node_atoms, node_coors)\n",
    "write_xyz('linker.xyz', linker_atoms, linker_coors)"
   ]
  },
  {
   "cell_type": "code",
   "execution_count": null,
   "metadata": {
    "collapsed": true
   },
   "outputs": [],
   "source": []
  }
 ],
 "metadata": {
  "kernelspec": {
   "display_name": "Python 3",
   "language": "python",
   "name": "python3"
  },
  "language_info": {
   "codemirror_mode": {
    "name": "ipython",
    "version": 3
   },
   "file_extension": ".py",
   "mimetype": "text/x-python",
   "name": "python",
   "nbconvert_exporter": "python",
   "pygments_lexer": "ipython3",
   "version": "3.5.2"
  }
 },
 "nbformat": 4,
 "nbformat_minor": 1
}
