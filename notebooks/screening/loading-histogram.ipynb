{
 "cells": [
  {
   "cell_type": "code",
   "execution_count": null,
   "metadata": {
    "collapsed": true
   },
   "outputs": [],
   "source": [
    "import os\n",
    "import yaml\n",
    "import matplotlib.pyplot as plt\n",
    "%matplotlib inline"
   ]
  },
  {
   "cell_type": "code",
   "execution_count": null,
   "metadata": {
    "collapsed": true
   },
   "outputs": [],
   "source": [
    "def read_results(results_file):\n",
    "    with open(results_file, 'r') as resfile:\n",
    "        results = yaml.load(resfile)\n",
    "    return results\n",
    "def calculate_loading(mgg_loading):\n",
    "    x = mgg_loading / 1000\n",
    "    return (x / (x + 1))"
   ]
  },
  {
   "cell_type": "code",
   "execution_count": null,
   "metadata": {
    "collapsed": true
   },
   "outputs": [],
   "source": [
    "results = dict(NIZ=read_results('NIZ_results.yaml'),\n",
    "               PZA=read_results('PZA_results.yaml'),\n",
    "               RFP=read_results('RFP_results.yaml'))"
   ]
  },
  {
   "cell_type": "code",
   "execution_count": null,
   "metadata": {
    "collapsed": false
   },
   "outputs": [],
   "source": [
    "DRUGS = ['NIZ', 'PZA', 'RFP']\n",
    "DRUG = 'RFP'\n",
    "new_results = []\n",
    "for res in results[DRUG]:\n",
    "    if res['finished'] == True and len(res['warnings']) == 0:\n",
    "        new_results.append(res)"
   ]
  },
  {
   "cell_type": "code",
   "execution_count": null,
   "metadata": {
    "collapsed": false
   },
   "outputs": [],
   "source": [
    "ads = dict()\n",
    "for drg in DRUGS:\n",
    "    new_results = []\n",
    "    for res in results[drg]:\n",
    "        if res['finished'] == True and len(res['warnings']) == 0:\n",
    "            new_results.append(res)\n",
    "    ads[drg] = [calculate_loading(res['ads'][drg]['mg/g']) for res in new_results]"
   ]
  },
  {
   "cell_type": "code",
   "execution_count": null,
   "metadata": {
    "collapsed": false
   },
   "outputs": [],
   "source": [
    "# Color scheme: http://swissmisfit.com/wp-content/uploads/2014/08/Color-Theory-3-Main-Principles-To-Create-Color-Schemes.jpg\n",
    "colors = dict(NIZ='#CF5955', PZA='#EAC658', RFP='#66AD9B')\n",
    "fig = plt.figure(figsize=(12, 2.5), dpi=300)\n",
    "fig.subplots_adjust(hspace=.2, wspace=.3)\n",
    "n_bins = 25\n",
    "\n",
    "for i, drg in enumerate(DRUGS, start=1):\n",
    "    ax = fig.add_subplot(1, 3, i, title=drg)\n",
    "    plt.hist(ads[drg], bins=n_bins, color=colors[drg], edgecolor='w', linewidth=0.1)\n",
    "    plt.xlim(0, 1)\n",
    "    plt.ylim(0, 50)\n",
    "    plt.xlabel('%s loading (g drug / g total)' % drg)\n",
    "    plt.ylabel('Number of MOFs')\n",
    "\n",
    "# RFP inset ------------------------------------------\n",
    "# left, bottom, width, height = [0.74, 0.5, 0.15, 0.3]\n",
    "# ax2 = fig.add_axes([left, bottom, width, height])\n",
    "# ax2.hist(ads['RFP'], bins=n_bins, color=colors[drg], edgecolor='w', linewidth=0.1)\n",
    "# ax2.set_xlim(0.1, .9)\n",
    "# ax2.set_ylim(0, 20)\n",
    "# ax2.set_xticks([.1, .5, .9])\n",
    "# ax2.set_yticks([0, 10, 20])"
   ]
  },
  {
   "cell_type": "code",
   "execution_count": null,
   "metadata": {
    "collapsed": true
   },
   "outputs": [],
   "source": []
  }
 ],
 "metadata": {
  "kernelspec": {
   "display_name": "Python 3",
   "language": "python",
   "name": "python3"
  },
  "language_info": {
   "codemirror_mode": {
    "name": "ipython",
    "version": 3
   },
   "file_extension": ".py",
   "mimetype": "text/x-python",
   "name": "python",
   "nbconvert_exporter": "python",
   "pygments_lexer": "ipython3",
   "version": "3.5.2"
  }
 },
 "nbformat": 4,
 "nbformat_minor": 1
}
