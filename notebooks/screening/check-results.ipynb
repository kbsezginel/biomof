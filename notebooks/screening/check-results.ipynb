{
 "cells": [
  {
   "cell_type": "code",
   "execution_count": null,
   "metadata": {
    "collapsed": true
   },
   "outputs": [],
   "source": [
    "import os\n",
    "import yaml"
   ]
  },
  {
   "cell_type": "code",
   "execution_count": null,
   "metadata": {
    "collapsed": true
   },
   "outputs": [],
   "source": [
    "def read_results(results_file):\n",
    "    with open(results_file, 'r') as resfile:\n",
    "        results = yaml.load(resfile)\n",
    "    return results\n",
    "def calculate_loading(mgg_loading):\n",
    "    x = mgg_loading / 1000\n",
    "    return (x / (x + 1))"
   ]
  },
  {
   "cell_type": "code",
   "execution_count": null,
   "metadata": {
    "collapsed": true
   },
   "outputs": [],
   "source": [
    "results = dict(NIZ=read_results('NIZ_results.yaml'),\n",
    "               PZA=read_results('PZA_results.yaml'),\n",
    "               RFP=read_results('RFP_results.yaml'))"
   ]
  },
  {
   "cell_type": "code",
   "execution_count": null,
   "metadata": {
    "collapsed": false
   },
   "outputs": [],
   "source": [
    "DRUGS = ['NIZ', 'PZA', 'RFP']\n",
    "new_results = []\n",
    "for drg in DRUGS:\n",
    "    for res in results[drg]:\n",
    "        if res['finished'] == False or len(res['warnings']) > 0:\n",
    "            new_results.append(res)"
   ]
  },
  {
   "cell_type": "code",
   "execution_count": null,
   "metadata": {
    "collapsed": false
   },
   "outputs": [],
   "source": [
    "resubmit_mofs = list(set([res['framework'] for res in new_results]))\n",
    "print('%i MOFs to resubmit' % len(resubmit_mofs))"
   ]
  },
  {
   "cell_type": "code",
   "execution_count": null,
   "metadata": {
    "collapsed": false
   },
   "outputs": [],
   "source": [
    "with open('resubmit_mofs.yaml', 'w') as rm:\n",
    "    yaml.dump(resubmit_mofs, rm)"
   ]
  },
  {
   "cell_type": "code",
   "execution_count": null,
   "metadata": {
    "collapsed": false
   },
   "outputs": [],
   "source": [
    "mof = 'ADASOP'\n",
    "mof_idx = [res['framework'] for res in new_results].index(mof)\n",
    "new_results[mof_idx]['warnings'][0]"
   ]
  },
  {
   "cell_type": "code",
   "execution_count": null,
   "metadata": {
    "collapsed": true
   },
   "outputs": [],
   "source": []
  }
 ],
 "metadata": {
  "kernelspec": {
   "display_name": "Python 3",
   "language": "python",
   "name": "python3"
  },
  "language_info": {
   "codemirror_mode": {
    "name": "ipython",
    "version": 3
   },
   "file_extension": ".py",
   "mimetype": "text/x-python",
   "name": "python",
   "nbconvert_exporter": "python",
   "pygments_lexer": "ipython3",
   "version": "3.5.2"
  }
 },
 "nbformat": 4,
 "nbformat_minor": 1
}
